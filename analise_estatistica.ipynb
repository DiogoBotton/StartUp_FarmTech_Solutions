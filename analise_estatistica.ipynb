{
 "cells": [
  {
   "cell_type": "code",
   "execution_count": 63,
   "metadata": {
    "vscode": {
     "languageId": "r"
    }
   },
   "outputs": [
    {
     "name": "stderr",
     "output_type": "stream",
     "text": [
      "Warning message in read.table(file = file, header = header, sep = sep, quote = quote, :\n",
      "\"linha final incompleta encontrada por readTableHeader em 'modelos/Modelo_Resultado.csv'\"\n"
     ]
    },
    {
     "data": {
      "text/html": [
       "<table class=\"dataframe\">\n",
       "<caption>A data.frame: 2 × 9</caption>\n",
       "<thead>\n",
       "\t<tr><th></th><th scope=col>Codigo_Produto</th><th scope=col>Largura</th><th scope=col>Comprimento</th><th scope=col>Area_Total</th><th scope=col>Area_Util</th><th scope=col>Numero_Linhas</th><th scope=col>Numero_Ruas</th><th scope=col>Quantidade_Adubo_Nitrogenado</th><th scope=col>Quantidade_Sementes</th></tr>\n",
       "\t<tr><th></th><th scope=col>&lt;int&gt;</th><th scope=col>&lt;int&gt;</th><th scope=col>&lt;int&gt;</th><th scope=col>&lt;int&gt;</th><th scope=col>&lt;dbl&gt;</th><th scope=col>&lt;int&gt;</th><th scope=col>&lt;int&gt;</th><th scope=col>&lt;dbl&gt;</th><th scope=col>&lt;dbl&gt;</th></tr>\n",
       "</thead>\n",
       "<tbody>\n",
       "\t<tr><th scope=row>1</th><td>1</td><td>10</td><td>10</td><td>100</td><td>41.6</td><td>7</td><td>2</td><td>0.33</td><td>10.0</td></tr>\n",
       "\t<tr><th scope=row>2</th><td>2</td><td>15</td><td> 9</td><td>150</td><td>45.0</td><td>7</td><td>2</td><td>0.44</td><td>15.6</td></tr>\n",
       "</tbody>\n",
       "</table>\n"
      ],
      "text/latex": [
       "A data.frame: 2 × 9\n",
       "\\begin{tabular}{r|lllllllll}\n",
       "  & Codigo\\_Produto & Largura & Comprimento & Area\\_Total & Area\\_Util & Numero\\_Linhas & Numero\\_Ruas & Quantidade\\_Adubo\\_Nitrogenado & Quantidade\\_Sementes\\\\\n",
       "  & <int> & <int> & <int> & <int> & <dbl> & <int> & <int> & <dbl> & <dbl>\\\\\n",
       "\\hline\n",
       "\t1 & 1 & 10 & 10 & 100 & 41.6 & 7 & 2 & 0.33 & 10.0\\\\\n",
       "\t2 & 2 & 15 &  9 & 150 & 45.0 & 7 & 2 & 0.44 & 15.6\\\\\n",
       "\\end{tabular}\n"
      ],
      "text/markdown": [
       "\n",
       "A data.frame: 2 × 9\n",
       "\n",
       "| <!--/--> | Codigo_Produto &lt;int&gt; | Largura &lt;int&gt; | Comprimento &lt;int&gt; | Area_Total &lt;int&gt; | Area_Util &lt;dbl&gt; | Numero_Linhas &lt;int&gt; | Numero_Ruas &lt;int&gt; | Quantidade_Adubo_Nitrogenado &lt;dbl&gt; | Quantidade_Sementes &lt;dbl&gt; |\n",
       "|---|---|---|---|---|---|---|---|---|---|\n",
       "| 1 | 1 | 10 | 10 | 100 | 41.6 | 7 | 2 | 0.33 | 10.0 |\n",
       "| 2 | 2 | 15 |  9 | 150 | 45.0 | 7 | 2 | 0.44 | 15.6 |\n",
       "\n"
      ],
      "text/plain": [
       "  Codigo_Produto Largura Comprimento Area_Total Area_Util Numero_Linhas\n",
       "1 1              10      10          100        41.6      7            \n",
       "2 2              15       9          150        45.0      7            \n",
       "  Numero_Ruas Quantidade_Adubo_Nitrogenado Quantidade_Sementes\n",
       "1 2           0.33                         10.0               \n",
       "2 2           0.44                         15.6               "
      ]
     },
     "metadata": {},
     "output_type": "display_data"
    }
   ],
   "source": [
    "# Lê o arquivo csv definindo que existe um cabeçalho e o separador como \" ; \"\n",
    "dados = read.csv(\"modelos/Modelo_Resultado.csv\", header = TRUE, sep = \";\") # Retorna um dataframe\n",
    "\n",
    "# Mostra as primeiras 5 linhas do dataframe\n",
    "head(dados)"
   ]
  },
  {
   "cell_type": "code",
   "execution_count": 64,
   "metadata": {
    "vscode": {
     "languageId": "r"
    }
   },
   "outputs": [
    {
     "name": "stdout",
     "output_type": "stream",
     "text": [
      "Desvio padrão de Quantidade de Adubo: 0.078 \n",
      "Desvio padrão de Quantidade de Sementes: 3.96"
     ]
    }
   ],
   "source": [
    "# Calculo de desvio padrão para quantidade de insumos\n",
    "quantidade_adubo <- dados$Quantidade_Adubo_Nitrogenado\n",
    "quantidade_sementes <- dados$Quantidade_Sementes\n",
    "\n",
    "# Os resultados de desvio padrão significam quanto os valores estão distantes entre si\n",
    "# Quanto mais perto do zero, menos distantes estão os valores, do contrário, mais distantes estão\n",
    "desvio_adubo <- sd(quantidade_adubo)\n",
    "desvio_sementes <- sd(quantidade_sementes)\n",
    "\n",
    "cat(\"Desvio padrão de Quantidade de Adubo:\", round(desvio_adubo, 3), \"\\n\")\n",
    "cat(\"Desvio padrão de Quantidade de Sementes:\", round(desvio_sementes, 3))"
   ]
  },
  {
   "cell_type": "code",
   "execution_count": 65,
   "metadata": {
    "vscode": {
     "languageId": "r"
    }
   },
   "outputs": [
    {
     "name": "stdout",
     "output_type": "stream",
     "text": [
      "Eficiência do uso da Área: 41.6 30"
     ]
    }
   ],
   "source": [
    "# Cálculo de eficiência do uso da área\n",
    "eficiencia <- (dados$Area_Util / dados$Area_Total) * 100\n",
    "\n",
    "# Este cálculo mostra a porcentagem da área total que está sendo efetivamente utilizada para o plantio.\n",
    "cat(\"Eficiência do uso da Área:\", eficiencia)"
   ]
  },
  {
   "cell_type": "code",
   "execution_count": 66,
   "metadata": {
    "vscode": {
     "languageId": "r"
    }
   },
   "outputs": [
    {
     "name": "stdout",
     "output_type": "stream",
     "text": [
      "Densidade de Plantio: 0.1682692 0.1555556"
     ]
    }
   ],
   "source": [
    "# Densidade de plantio\n",
    "densidade_plantio <- dados$Numero_Linhas / dados$Area_Util\n",
    "\n",
    "# Indica quantas linhas de plantio há por unidade de área útil\n",
    "# Ajuda a identificar a eficiência do uso da área disponível\n",
    "cat(\"Densidade de Plantio:\", densidade_plantio)"
   ]
  },
  {
   "cell_type": "code",
   "execution_count": 67,
   "metadata": {
    "vscode": {
     "languageId": "r"
    }
   },
   "outputs": [
    {
     "name": "stdout",
     "output_type": "stream",
     "text": [
      "Quantidade de Adubo por Hectare: 0.007932692 0.009777778"
     ]
    }
   ],
   "source": [
    "# Quantidade de adubo por hectare\n",
    "adubo_por_hectare <- dados$Quantidade_Adubo_Nitrogenado / dados$Area_Util\n",
    "\n",
    "cat(\"Quantidade de Adubo por Hectare:\", adubo_por_hectare)"
   ]
  },
  {
   "cell_type": "code",
   "execution_count": 68,
   "metadata": {
    "vscode": {
     "languageId": "r"
    }
   },
   "outputs": [
    {
     "name": "stdout",
     "output_type": "stream",
     "text": [
      "Quantidade de Sementes por m²: 0.2403846 0.3466667"
     ]
    }
   ],
   "source": [
    "# Quantidade de sementes por metro quadrado (baseado na área util)\n",
    "sementes_por_m2 <- dados$Quantidade_Sementes / dados$Area_Util\n",
    "\n",
    "cat(\"Quantidade de Sementes por m²:\", sementes_por_m2)"
   ]
  }
 ],
 "metadata": {
  "kernelspec": {
   "display_name": "R",
   "language": "R",
   "name": "ir"
  },
  "language_info": {
   "codemirror_mode": "r",
   "file_extension": ".r",
   "mimetype": "text/x-r-source",
   "name": "R",
   "pygments_lexer": "r",
   "version": "4.4.1"
  }
 },
 "nbformat": 4,
 "nbformat_minor": 2
}
