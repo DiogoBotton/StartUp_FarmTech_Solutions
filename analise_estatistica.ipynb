{
 "cells": [
  {
   "cell_type": "code",
   "execution_count": 7,
   "metadata": {
    "vscode": {
     "languageId": "r"
    }
   },
   "outputs": [
    {
     "data": {
      "text/html": [
       "<table class=\"dataframe\">\n",
       "<caption>A data.frame: 4 × 9</caption>\n",
       "<thead>\n",
       "\t<tr><th></th><th scope=col>Codigo_Produto</th><th scope=col>Largura</th><th scope=col>Comprimento</th><th scope=col>Area_Total</th><th scope=col>Area_Util</th><th scope=col>Numero_Linhas</th><th scope=col>Numero_Ruas</th><th scope=col>Quantidade_Adubo_Nitrogenado</th><th scope=col>Quantidade_Sementes</th></tr>\n",
       "\t<tr><th></th><th scope=col>&lt;int&gt;</th><th scope=col>&lt;dbl&gt;</th><th scope=col>&lt;dbl&gt;</th><th scope=col>&lt;dbl&gt;</th><th scope=col>&lt;dbl&gt;</th><th scope=col>&lt;dbl&gt;</th><th scope=col>&lt;dbl&gt;</th><th scope=col>&lt;dbl&gt;</th><th scope=col>&lt;dbl&gt;</th></tr>\n",
       "</thead>\n",
       "<tbody>\n",
       "\t<tr><th scope=row>1</th><td>1</td><td>10</td><td>10</td><td> 100</td><td> 90.00000</td><td> 5</td><td>3</td><td>0.9000000</td><td>  1377.5510</td></tr>\n",
       "\t<tr><th scope=row>2</th><td>1</td><td>10</td><td>10</td><td> 100</td><td> 41.66667</td><td> 7</td><td>3</td><td>0.4166667</td><td>   637.7551</td></tr>\n",
       "\t<tr><th scope=row>3</th><td>2</td><td>20</td><td>20</td><td> 400</td><td>312.50000</td><td>20</td><td>5</td><td>2.5000000</td><td> 32894.7368</td></tr>\n",
       "\t<tr><th scope=row>4</th><td>2</td><td>32</td><td>32</td><td>1024</td><td>992.00000</td><td>11</td><td>6</td><td>7.9360000</td><td>104421.0526</td></tr>\n",
       "</tbody>\n",
       "</table>\n"
      ],
      "text/latex": [
       "A data.frame: 4 × 9\n",
       "\\begin{tabular}{r|lllllllll}\n",
       "  & Codigo\\_Produto & Largura & Comprimento & Area\\_Total & Area\\_Util & Numero\\_Linhas & Numero\\_Ruas & Quantidade\\_Adubo\\_Nitrogenado & Quantidade\\_Sementes\\\\\n",
       "  & <int> & <dbl> & <dbl> & <dbl> & <dbl> & <dbl> & <dbl> & <dbl> & <dbl>\\\\\n",
       "\\hline\n",
       "\t1 & 1 & 10 & 10 &  100 &  90.00000 &  5 & 3 & 0.9000000 &   1377.5510\\\\\n",
       "\t2 & 1 & 10 & 10 &  100 &  41.66667 &  7 & 3 & 0.4166667 &    637.7551\\\\\n",
       "\t3 & 2 & 20 & 20 &  400 & 312.50000 & 20 & 5 & 2.5000000 &  32894.7368\\\\\n",
       "\t4 & 2 & 32 & 32 & 1024 & 992.00000 & 11 & 6 & 7.9360000 & 104421.0526\\\\\n",
       "\\end{tabular}\n"
      ],
      "text/markdown": [
       "\n",
       "A data.frame: 4 × 9\n",
       "\n",
       "| <!--/--> | Codigo_Produto &lt;int&gt; | Largura &lt;dbl&gt; | Comprimento &lt;dbl&gt; | Area_Total &lt;dbl&gt; | Area_Util &lt;dbl&gt; | Numero_Linhas &lt;dbl&gt; | Numero_Ruas &lt;dbl&gt; | Quantidade_Adubo_Nitrogenado &lt;dbl&gt; | Quantidade_Sementes &lt;dbl&gt; |\n",
       "|---|---|---|---|---|---|---|---|---|---|\n",
       "| 1 | 1 | 10 | 10 |  100 |  90.00000 |  5 | 3 | 0.9000000 |   1377.5510 |\n",
       "| 2 | 1 | 10 | 10 |  100 |  41.66667 |  7 | 3 | 0.4166667 |    637.7551 |\n",
       "| 3 | 2 | 20 | 20 |  400 | 312.50000 | 20 | 5 | 2.5000000 |  32894.7368 |\n",
       "| 4 | 2 | 32 | 32 | 1024 | 992.00000 | 11 | 6 | 7.9360000 | 104421.0526 |\n",
       "\n"
      ],
      "text/plain": [
       "  Codigo_Produto Largura Comprimento Area_Total Area_Util Numero_Linhas\n",
       "1 1              10      10           100        90.00000  5           \n",
       "2 1              10      10           100        41.66667  7           \n",
       "3 2              20      20           400       312.50000 20           \n",
       "4 2              32      32          1024       992.00000 11           \n",
       "  Numero_Ruas Quantidade_Adubo_Nitrogenado Quantidade_Sementes\n",
       "1 3           0.9000000                      1377.5510        \n",
       "2 3           0.4166667                       637.7551        \n",
       "3 5           2.5000000                     32894.7368        \n",
       "4 6           7.9360000                    104421.0526        "
      ]
     },
     "metadata": {},
     "output_type": "display_data"
    }
   ],
   "source": [
    "# Lê o arquivo csv definindo que existe um cabeçalho e o separador como \" ; \"\n",
    "dados = read.csv(\"informacoes_culturas.csv\", header = TRUE, sep = \";\") # Retorna um dataframe\n",
    "\n",
    "# Mostra as primeiras 5 linhas do dataframe\n",
    "head(dados)"
   ]
  },
  {
   "cell_type": "code",
   "execution_count": 8,
   "metadata": {
    "vscode": {
     "languageId": "r"
    }
   },
   "outputs": [
    {
     "name": "stdout",
     "output_type": "stream",
     "text": [
      "Desvio padrão de Quantidade de Adubo: 3.449 \n",
      "Desvio padrão de Quantidade de Sementes: 48767.6"
     ]
    }
   ],
   "source": [
    "# Calculo de desvio padrão para quantidade de insumos\n",
    "quantidade_adubo <- dados$Quantidade_Adubo_Nitrogenado\n",
    "quantidade_sementes <- dados$Quantidade_Sementes\n",
    "\n",
    "# Os resultados de desvio padrão significam quanto os valores estão distantes entre si\n",
    "# Quanto mais perto do zero, menos distantes estão os valores, do contrário, mais distantes estão\n",
    "desvio_adubo <- sd(quantidade_adubo)\n",
    "desvio_sementes <- sd(quantidade_sementes)\n",
    "\n",
    "cat(\"Desvio padrão de Quantidade de Adubo:\", round(desvio_adubo, 3), \"\\n\")\n",
    "cat(\"Desvio padrão de Quantidade de Sementes:\", round(desvio_sementes, 3))"
   ]
  },
  {
   "cell_type": "code",
   "execution_count": 9,
   "metadata": {
    "vscode": {
     "languageId": "r"
    }
   },
   "outputs": [
    {
     "name": "stdout",
     "output_type": "stream",
     "text": [
      "Eficiência do uso da Área: 90 41.66667 78.125 96.875"
     ]
    }
   ],
   "source": [
    "# Cálculo de eficiência do uso da área\n",
    "eficiencia <- (dados$Area_Util / dados$Area_Total) * 100\n",
    "\n",
    "# Este cálculo mostra a porcentagem da área total que está sendo efetivamente utilizada para o plantio.\n",
    "cat(\"Eficiência do uso da Área:\", eficiencia)"
   ]
  },
  {
   "cell_type": "code",
   "execution_count": 10,
   "metadata": {
    "vscode": {
     "languageId": "r"
    }
   },
   "outputs": [
    {
     "name": "stdout",
     "output_type": "stream",
     "text": [
      "Densidade de Plantio: 0.05555556 0.168 0.064 0.01108871"
     ]
    }
   ],
   "source": [
    "# Densidade de plantio\n",
    "densidade_plantio <- dados$Numero_Linhas / dados$Area_Util\n",
    "\n",
    "# Indica quantas linhas de plantio há por unidade de área útil\n",
    "# Ajuda a identificar a eficiência do uso da área disponível\n",
    "cat(\"Densidade de Plantio:\", densidade_plantio)"
   ]
  },
  {
   "cell_type": "code",
   "execution_count": 11,
   "metadata": {
    "vscode": {
     "languageId": "r"
    }
   },
   "outputs": [
    {
     "name": "stdout",
     "output_type": "stream",
     "text": [
      "Quantidade de Adubo por Hectare: 0.01 0.01 0.008 0.008"
     ]
    }
   ],
   "source": [
    "# Quantidade de adubo por hectare\n",
    "adubo_por_hectare <- dados$Quantidade_Adubo_Nitrogenado / dados$Area_Util\n",
    "\n",
    "cat(\"Quantidade de Adubo por Hectare:\", adubo_por_hectare)"
   ]
  },
  {
   "cell_type": "code",
   "execution_count": 12,
   "metadata": {
    "vscode": {
     "languageId": "r"
    }
   },
   "outputs": [
    {
     "name": "stdout",
     "output_type": "stream",
     "text": [
      "Quantidade de Sementes por m²: 15.30612 15.30612 105.2632 105.2632"
     ]
    }
   ],
   "source": [
    "# Quantidade de sementes por metro quadrado (baseado na área util)\n",
    "sementes_por_m2 <- dados$Quantidade_Sementes / dados$Area_Util\n",
    "\n",
    "cat(\"Quantidade de Sementes por m²:\", sementes_por_m2)"
   ]
  }
 ],
 "metadata": {
  "kernelspec": {
   "display_name": "R",
   "language": "R",
   "name": "ir"
  },
  "language_info": {
   "codemirror_mode": "r",
   "file_extension": ".r",
   "mimetype": "text/x-r-source",
   "name": "R",
   "pygments_lexer": "r",
   "version": "4.4.1"
  }
 },
 "nbformat": 4,
 "nbformat_minor": 2
}
